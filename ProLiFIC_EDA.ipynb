{
  "cells": [
    {
      "cell_type": "markdown",
      "metadata": {
        "id": "E03LJtbQOcrb"
      },
      "source": [
        "# ProLiFIC EDA Notebook\n",
        "\n",
        "Welcome to the **Exploratory Data Analysis (EDA)** notebook for the **ProLiFIC** dataset — *Procedural Lawmaking Flow in Italian Chambers*. This notebook walks you through:\n",
        "\n",
        "- Loading and inspecting the event log and metadata\n",
        "- Parsing timestamps and cleaning key fields\n",
        "- Merging metadata with procedural event data\n",
        "- Converting the dataset into a format suitable for **process mining** with `pm4py`\n",
        "- Computing descriptive statistics and case durations\n",
        "- Exploring temporal patterns and institutional trends in legislative processes\n",
        "\n",
        "The ProLiFIC dataset covers Italian parliamentary activity from **1987 to 2022**, capturing detailed procedural traces for each legislative case. It is particularly suited for research in:\n",
        "\n",
        "- **Legal process mining**\n",
        "- **Governance and institutional modeling**\n",
        "- **Temporal and policy analysis**\n",
        "\n",
        "This EDA lays the foundation for more advanced questions about lawmaking duration, decree-law usage, legislative bottlenecks, and institutional dynamics."
      ]
    },
    {
      "cell_type": "markdown",
      "metadata": {
        "id": "PPEVJrqzOcrd"
      },
      "source": [
        "## 📦 Requirements\n",
        "\n",
        "This notebook requires the following Python libraries:\n",
        "\n",
        "- `pandas` – for data manipulation\n",
        "- `numpy` – for numerical operations\n",
        "- `matplotlib` – for basic visualizations\n",
        "- `pm4py` – for process mining functionalities\n",
        "\n",
        "To install the missing libraries, run:"
      ]
    },
    {
      "cell_type": "code",
      "source": [
        "%pip install numpy\n",
        "%pip install pandas\n",
        "%pip install matplotlib\n",
        "%pip install pm4py"
      ],
      "metadata": {
        "id": "HhixP3opOgpo",
        "outputId": "a1300528-f1a6-4459-8703-af8e504c726f",
        "colab": {
          "base_uri": "https://localhost:8080/"
        }
      },
      "execution_count": 1,
      "outputs": [
        {
          "output_type": "stream",
          "name": "stdout",
          "text": [
            "Requirement already satisfied: numpy in /usr/local/lib/python3.11/dist-packages (2.0.2)\n",
            "Requirement already satisfied: pandas in /usr/local/lib/python3.11/dist-packages (2.2.2)\n",
            "Requirement already satisfied: numpy>=1.23.2 in /usr/local/lib/python3.11/dist-packages (from pandas) (2.0.2)\n",
            "Requirement already satisfied: python-dateutil>=2.8.2 in /usr/local/lib/python3.11/dist-packages (from pandas) (2.9.0.post0)\n",
            "Requirement already satisfied: pytz>=2020.1 in /usr/local/lib/python3.11/dist-packages (from pandas) (2025.2)\n",
            "Requirement already satisfied: tzdata>=2022.7 in /usr/local/lib/python3.11/dist-packages (from pandas) (2025.2)\n",
            "Requirement already satisfied: six>=1.5 in /usr/local/lib/python3.11/dist-packages (from python-dateutil>=2.8.2->pandas) (1.17.0)\n",
            "Requirement already satisfied: matplotlib in /usr/local/lib/python3.11/dist-packages (3.10.0)\n",
            "Requirement already satisfied: contourpy>=1.0.1 in /usr/local/lib/python3.11/dist-packages (from matplotlib) (1.3.2)\n",
            "Requirement already satisfied: cycler>=0.10 in /usr/local/lib/python3.11/dist-packages (from matplotlib) (0.12.1)\n",
            "Requirement already satisfied: fonttools>=4.22.0 in /usr/local/lib/python3.11/dist-packages (from matplotlib) (4.58.4)\n",
            "Requirement already satisfied: kiwisolver>=1.3.1 in /usr/local/lib/python3.11/dist-packages (from matplotlib) (1.4.8)\n",
            "Requirement already satisfied: numpy>=1.23 in /usr/local/lib/python3.11/dist-packages (from matplotlib) (2.0.2)\n",
            "Requirement already satisfied: packaging>=20.0 in /usr/local/lib/python3.11/dist-packages (from matplotlib) (24.2)\n",
            "Requirement already satisfied: pillow>=8 in /usr/local/lib/python3.11/dist-packages (from matplotlib) (11.2.1)\n",
            "Requirement already satisfied: pyparsing>=2.3.1 in /usr/local/lib/python3.11/dist-packages (from matplotlib) (3.2.3)\n",
            "Requirement already satisfied: python-dateutil>=2.7 in /usr/local/lib/python3.11/dist-packages (from matplotlib) (2.9.0.post0)\n",
            "Requirement already satisfied: six>=1.5 in /usr/local/lib/python3.11/dist-packages (from python-dateutil>=2.7->matplotlib) (1.17.0)\n",
            "Collecting pm4py\n",
            "  Downloading pm4py-2.7.15.3-py3-none-any.whl.metadata (4.8 kB)\n",
            "Requirement already satisfied: numpy in /usr/local/lib/python3.11/dist-packages (from pm4py) (2.0.2)\n",
            "Requirement already satisfied: pandas in /usr/local/lib/python3.11/dist-packages (from pm4py) (2.2.2)\n",
            "Collecting deprecation (from pm4py)\n",
            "  Downloading deprecation-2.1.0-py2.py3-none-any.whl.metadata (4.6 kB)\n",
            "Requirement already satisfied: networkx in /usr/local/lib/python3.11/dist-packages (from pm4py) (3.5)\n",
            "Requirement already satisfied: graphviz in /usr/local/lib/python3.11/dist-packages (from pm4py) (0.21)\n",
            "Requirement already satisfied: wheel in /usr/local/lib/python3.11/dist-packages (from pm4py) (0.45.1)\n",
            "Requirement already satisfied: setuptools in /usr/local/lib/python3.11/dist-packages (from pm4py) (75.2.0)\n",
            "Collecting intervaltree (from pm4py)\n",
            "  Downloading intervaltree-3.1.0.tar.gz (32 kB)\n",
            "  Preparing metadata (setup.py) ... \u001b[?25l\u001b[?25hdone\n",
            "Requirement already satisfied: lxml in /usr/local/lib/python3.11/dist-packages (from pm4py) (5.4.0)\n",
            "Requirement already satisfied: matplotlib in /usr/local/lib/python3.11/dist-packages (from pm4py) (3.10.0)\n",
            "Requirement already satisfied: pydotplus in /usr/local/lib/python3.11/dist-packages (from pm4py) (2.0.2)\n",
            "Requirement already satisfied: pytz in /usr/local/lib/python3.11/dist-packages (from pm4py) (2025.2)\n",
            "Requirement already satisfied: scipy in /usr/local/lib/python3.11/dist-packages (from pm4py) (1.15.3)\n",
            "Requirement already satisfied: tqdm in /usr/local/lib/python3.11/dist-packages (from pm4py) (4.67.1)\n",
            "Requirement already satisfied: cvxopt in /usr/local/lib/python3.11/dist-packages (from pm4py) (1.3.2)\n",
            "Requirement already satisfied: packaging in /usr/local/lib/python3.11/dist-packages (from deprecation->pm4py) (24.2)\n",
            "Requirement already satisfied: sortedcontainers<3.0,>=2.0 in /usr/local/lib/python3.11/dist-packages (from intervaltree->pm4py) (2.4.0)\n",
            "Requirement already satisfied: contourpy>=1.0.1 in /usr/local/lib/python3.11/dist-packages (from matplotlib->pm4py) (1.3.2)\n",
            "Requirement already satisfied: cycler>=0.10 in /usr/local/lib/python3.11/dist-packages (from matplotlib->pm4py) (0.12.1)\n",
            "Requirement already satisfied: fonttools>=4.22.0 in /usr/local/lib/python3.11/dist-packages (from matplotlib->pm4py) (4.58.4)\n",
            "Requirement already satisfied: kiwisolver>=1.3.1 in /usr/local/lib/python3.11/dist-packages (from matplotlib->pm4py) (1.4.8)\n",
            "Requirement already satisfied: pillow>=8 in /usr/local/lib/python3.11/dist-packages (from matplotlib->pm4py) (11.2.1)\n",
            "Requirement already satisfied: pyparsing>=2.3.1 in /usr/local/lib/python3.11/dist-packages (from matplotlib->pm4py) (3.2.3)\n",
            "Requirement already satisfied: python-dateutil>=2.7 in /usr/local/lib/python3.11/dist-packages (from matplotlib->pm4py) (2.9.0.post0)\n",
            "Requirement already satisfied: tzdata>=2022.7 in /usr/local/lib/python3.11/dist-packages (from pandas->pm4py) (2025.2)\n",
            "Requirement already satisfied: six>=1.5 in /usr/local/lib/python3.11/dist-packages (from python-dateutil>=2.7->matplotlib->pm4py) (1.17.0)\n",
            "Downloading pm4py-2.7.15.3-py3-none-any.whl (2.1 MB)\n",
            "\u001b[2K   \u001b[90m━━━━━━━━━━━━━━━━━━━━━━━━━━━━━━━━━━━━━━━━\u001b[0m \u001b[32m2.1/2.1 MB\u001b[0m \u001b[31m35.1 MB/s\u001b[0m eta \u001b[36m0:00:00\u001b[0m\n",
            "\u001b[?25hDownloading deprecation-2.1.0-py2.py3-none-any.whl (11 kB)\n",
            "Building wheels for collected packages: intervaltree\n",
            "  Building wheel for intervaltree (setup.py) ... \u001b[?25l\u001b[?25hdone\n",
            "  Created wheel for intervaltree: filename=intervaltree-3.1.0-py2.py3-none-any.whl size=26098 sha256=943b39963fe781b8ce009d1c6287d9c0a7ae73b6b99db3249fd22e1f470d5d75\n",
            "  Stored in directory: /root/.cache/pip/wheels/31/d7/d9/eec6891f78cac19a693bd40ecb8365d2f4613318c145ec9816\n",
            "Successfully built intervaltree\n",
            "Installing collected packages: intervaltree, deprecation, pm4py\n",
            "Successfully installed deprecation-2.1.0 intervaltree-3.1.0 pm4py-2.7.15.3\n"
          ]
        }
      ]
    },
    {
      "cell_type": "code",
      "execution_count": 2,
      "metadata": {
        "id": "32y6ZHVQOcrd",
        "outputId": "9ac4c26d-8ffb-46b6-a079-d14221dbc7b6",
        "colab": {
          "base_uri": "https://localhost:8080/"
        }
      },
      "outputs": [
        {
          "output_type": "stream",
          "name": "stderr",
          "text": [
            "/usr/local/lib/python3.11/dist-packages/cudf/utils/_ptxcompiler.py:64: UserWarning: Error getting driver and runtime versions:\n",
            "\n",
            "stdout:\n",
            "\n",
            "\n",
            "\n",
            "stderr:\n",
            "\n",
            "Traceback (most recent call last):\n",
            "  File \"<string>\", line 4, in <module>\n",
            "  File \"/usr/local/lib/python3.11/dist-packages/numba_cuda/numba/cuda/cudadrv/driver.py\", line 314, in __getattr__\n",
            "    raise CudaSupportError(\"Error at driver init: \\n%s:\" %\n",
            "numba.cuda.cudadrv.error.CudaSupportError: Error at driver init: \n",
            "\n",
            "CUDA driver library cannot be found.\n",
            "If you are sure that a CUDA driver is installed,\n",
            "try setting environment variable NUMBA_CUDA_DRIVER\n",
            "with the file path of the CUDA driver shared library.\n",
            ":\n",
            "\n",
            "\n",
            "Not patching Numba\n",
            "  warnings.warn(msg, UserWarning)\n",
            "/usr/local/lib/python3.11/dist-packages/cudf/utils/gpu_utils.py:62: UserWarning: Failed to dlopen libcuda.so.1\n",
            "  warnings.warn(str(e))\n"
          ]
        }
      ],
      "source": [
        "import pandas as pd\n",
        "import matplotlib.pyplot as plt\n",
        "import numpy as np\n",
        "\n",
        "from pm4py.objects.log.util import dataframe_utils\n",
        "from pm4py.objects.conversion.log import converter"
      ]
    },
    {
      "cell_type": "markdown",
      "metadata": {
        "id": "AaCb471POcre"
      },
      "source": [
        "## 📄 Load Data\n",
        "\n",
        "We begin by loading the two main components of the ProLiFIC dataset:\n",
        "\n",
        "- `ProLiFIC_event_log.csv`: procedural events (one row per event)\n",
        "- `ProLiFIC_metadata.csv`: metadata per case (one row per law)"
      ]
    },
    {
      "cell_type": "code",
      "execution_count": 3,
      "metadata": {
        "id": "6qfeLzAXOcre"
      },
      "outputs": [],
      "source": [
        "# Load event log and metadata\n",
        "#If running on local files\n",
        "#event_log = pd.read_csv('data/ProLiFIC_event_log.csv', index_col=False)\n",
        "#metadata = pd.read_csv('data/ProLiFIC_metadata.csv', index_col=False)\n",
        "\n",
        "#If running using remote files on github\n",
        "github_path=\"https://github.com/matildeec/ProLiFIC/raw/refs/heads/main/\"\n",
        "event_log = pd.read_csv(github_path+'data/ProLiFIC_event_log.csv', index_col=False)\n",
        "metadata = pd.read_csv(github_path+'data/ProLiFIC_metadata.csv', index_col=False)"
      ]
    },
    {
      "cell_type": "code",
      "source": [
        "event_log.info()"
      ],
      "metadata": {
        "id": "yzB6-n7UPSyn",
        "outputId": "8eee28bb-aeaa-4487-ff98-c424d3a69fb4",
        "colab": {
          "base_uri": "https://localhost:8080/"
        }
      },
      "execution_count": 4,
      "outputs": [
        {
          "output_type": "stream",
          "name": "stdout",
          "text": [
            "<class 'pandas.core.frame.DataFrame'>\n",
            "RangeIndex: 122361 entries, 0 to 122360\n",
            "Data columns (total 8 columns):\n",
            " #   Column       Non-Null Count   Dtype \n",
            "---  ------       --------------   ----- \n",
            " 0   case_id      122361 non-null  object\n",
            " 1   chamber      122361 non-null  object\n",
            " 2   activity_it  122361 non-null  object\n",
            " 3   activity_en  122361 non-null  object\n",
            " 4   time         122361 non-null  object\n",
            " 5   committee    98451 non-null   object\n",
            " 6   person       6475 non-null    object\n",
            " 7   chunk        122357 non-null  object\n",
            "dtypes: object(8)\n",
            "memory usage: 7.5+ MB\n"
          ]
        }
      ]
    },
    {
      "cell_type": "code",
      "source": [
        "event_log"
      ],
      "metadata": {
        "id": "EApo62oiPZ2c",
        "outputId": "cee2c2d0-edc3-445a-bedf-f43388c06aa8",
        "colab": {
          "base_uri": "https://localhost:8080/",
          "height": 423
        }
      },
      "execution_count": 5,
      "outputs": [
        {
          "output_type": "execute_result",
          "data": {
            "text/plain": [
              "         case_id chamber           activity_it            activity_en  \\\n",
              "0       22G00184  senato         Presentazione           Presentation   \n",
              "1       22G00184  senato          Assegnazione             Assignment   \n",
              "2       22G00184  senato  Esame in commissione  Committee examination   \n",
              "3       22G00184  senato  Esame in commissione  Committee examination   \n",
              "4       22G00184  senato  Esame in commissione  Committee examination   \n",
              "...          ...     ...                   ...                    ...   \n",
              "122356  099G0082  camera      Richiesta parere    Request for opinion   \n",
              "122357  099G0082  camera      Richiesta parere    Request for opinion   \n",
              "122358  099G0082  camera      Richiesta parere    Request for opinion   \n",
              "122359  099G0082  camera  Esame in commissione  Committee examination   \n",
              "122360  099G0082  camera          Approvazione               Approval   \n",
              "\n",
              "                    time       committee person  \\\n",
              "0       2018-10-05-00-00             NaN    NaN   \n",
              "1       2018-11-06-00-00   COMMISSIONE 1    NaN   \n",
              "2       2020-02-11-00-00   COMMISSIONE 1    NaN   \n",
              "3       2020-07-07-00-00   COMMISSIONE 1    NaN   \n",
              "4       2020-07-21-00-00   COMMISSIONE 1    NaN   \n",
              "...                  ...             ...    ...   \n",
              "122356  1999-01-28-00-02   COMMISSIONE 2    NaN   \n",
              "122357  1999-01-28-00-03   COMMISSIONE 5    NaN   \n",
              "122358  1999-01-28-00-04  COMMISSIONE 11    NaN   \n",
              "122359  1999-02-03-00-00   COMMISSIONE 6    NaN   \n",
              "122360  1999-02-03-00-01   COMMISSIONE 6    NaN   \n",
              "\n",
              "                                                    chunk  \n",
              "0       Senato della Repubblica (atto numero 865): Di ...  \n",
              "1       Assegnato alla 1 commissione permanente (Affar...  \n",
              "2       Esaminato dalla 1 commissione (Affari costituz...  \n",
              "3       Esaminato dalla 1 commissione (Affari costituz...  \n",
              "4       Esaminato dalla 1 commissione (Affari costituz...  \n",
              "...                                                   ...  \n",
              "122356  Assegnato alla VI commissione (Finanze), in se...  \n",
              "122357  Assegnato alla VI commissione (Finanze), in se...  \n",
              "122358  Assegnato alla VI commissione (Finanze), in se...  \n",
              "122359  Esaminato dalla VI commissione e approvato il ...  \n",
              "122360  Esaminato dalla VI commissione e approvato il ...  \n",
              "\n",
              "[122361 rows x 8 columns]"
            ],
            "text/html": [
              "<div>\n",
              "<style scoped>\n",
              "    .dataframe tbody tr th:only-of-type {\n",
              "        vertical-align: middle;\n",
              "    }\n",
              "\n",
              "    .dataframe tbody tr th {\n",
              "        vertical-align: top;\n",
              "    }\n",
              "\n",
              "    .dataframe thead th {\n",
              "        text-align: right;\n",
              "    }\n",
              "</style>\n",
              "<table border=\"1\" class=\"dataframe\">\n",
              "  <thead>\n",
              "    <tr style=\"text-align: right;\">\n",
              "      <th></th>\n",
              "      <th>case_id</th>\n",
              "      <th>chamber</th>\n",
              "      <th>activity_it</th>\n",
              "      <th>activity_en</th>\n",
              "      <th>time</th>\n",
              "      <th>committee</th>\n",
              "      <th>person</th>\n",
              "      <th>chunk</th>\n",
              "    </tr>\n",
              "  </thead>\n",
              "  <tbody>\n",
              "    <tr>\n",
              "      <th>0</th>\n",
              "      <td>22G00184</td>\n",
              "      <td>senato</td>\n",
              "      <td>Presentazione</td>\n",
              "      <td>Presentation</td>\n",
              "      <td>2018-10-05-00-00</td>\n",
              "      <td>NaN</td>\n",
              "      <td>NaN</td>\n",
              "      <td>Senato della Repubblica (atto numero 865): Di ...</td>\n",
              "    </tr>\n",
              "    <tr>\n",
              "      <th>1</th>\n",
              "      <td>22G00184</td>\n",
              "      <td>senato</td>\n",
              "      <td>Assegnazione</td>\n",
              "      <td>Assignment</td>\n",
              "      <td>2018-11-06-00-00</td>\n",
              "      <td>COMMISSIONE 1</td>\n",
              "      <td>NaN</td>\n",
              "      <td>Assegnato alla 1 commissione permanente (Affar...</td>\n",
              "    </tr>\n",
              "    <tr>\n",
              "      <th>2</th>\n",
              "      <td>22G00184</td>\n",
              "      <td>senato</td>\n",
              "      <td>Esame in commissione</td>\n",
              "      <td>Committee examination</td>\n",
              "      <td>2020-02-11-00-00</td>\n",
              "      <td>COMMISSIONE 1</td>\n",
              "      <td>NaN</td>\n",
              "      <td>Esaminato dalla 1 commissione (Affari costituz...</td>\n",
              "    </tr>\n",
              "    <tr>\n",
              "      <th>3</th>\n",
              "      <td>22G00184</td>\n",
              "      <td>senato</td>\n",
              "      <td>Esame in commissione</td>\n",
              "      <td>Committee examination</td>\n",
              "      <td>2020-07-07-00-00</td>\n",
              "      <td>COMMISSIONE 1</td>\n",
              "      <td>NaN</td>\n",
              "      <td>Esaminato dalla 1 commissione (Affari costituz...</td>\n",
              "    </tr>\n",
              "    <tr>\n",
              "      <th>4</th>\n",
              "      <td>22G00184</td>\n",
              "      <td>senato</td>\n",
              "      <td>Esame in commissione</td>\n",
              "      <td>Committee examination</td>\n",
              "      <td>2020-07-21-00-00</td>\n",
              "      <td>COMMISSIONE 1</td>\n",
              "      <td>NaN</td>\n",
              "      <td>Esaminato dalla 1 commissione (Affari costituz...</td>\n",
              "    </tr>\n",
              "    <tr>\n",
              "      <th>...</th>\n",
              "      <td>...</td>\n",
              "      <td>...</td>\n",
              "      <td>...</td>\n",
              "      <td>...</td>\n",
              "      <td>...</td>\n",
              "      <td>...</td>\n",
              "      <td>...</td>\n",
              "      <td>...</td>\n",
              "    </tr>\n",
              "    <tr>\n",
              "      <th>122356</th>\n",
              "      <td>099G0082</td>\n",
              "      <td>camera</td>\n",
              "      <td>Richiesta parere</td>\n",
              "      <td>Request for opinion</td>\n",
              "      <td>1999-01-28-00-02</td>\n",
              "      <td>COMMISSIONE 2</td>\n",
              "      <td>NaN</td>\n",
              "      <td>Assegnato alla VI commissione (Finanze), in se...</td>\n",
              "    </tr>\n",
              "    <tr>\n",
              "      <th>122357</th>\n",
              "      <td>099G0082</td>\n",
              "      <td>camera</td>\n",
              "      <td>Richiesta parere</td>\n",
              "      <td>Request for opinion</td>\n",
              "      <td>1999-01-28-00-03</td>\n",
              "      <td>COMMISSIONE 5</td>\n",
              "      <td>NaN</td>\n",
              "      <td>Assegnato alla VI commissione (Finanze), in se...</td>\n",
              "    </tr>\n",
              "    <tr>\n",
              "      <th>122358</th>\n",
              "      <td>099G0082</td>\n",
              "      <td>camera</td>\n",
              "      <td>Richiesta parere</td>\n",
              "      <td>Request for opinion</td>\n",
              "      <td>1999-01-28-00-04</td>\n",
              "      <td>COMMISSIONE 11</td>\n",
              "      <td>NaN</td>\n",
              "      <td>Assegnato alla VI commissione (Finanze), in se...</td>\n",
              "    </tr>\n",
              "    <tr>\n",
              "      <th>122359</th>\n",
              "      <td>099G0082</td>\n",
              "      <td>camera</td>\n",
              "      <td>Esame in commissione</td>\n",
              "      <td>Committee examination</td>\n",
              "      <td>1999-02-03-00-00</td>\n",
              "      <td>COMMISSIONE 6</td>\n",
              "      <td>NaN</td>\n",
              "      <td>Esaminato dalla VI commissione e approvato il ...</td>\n",
              "    </tr>\n",
              "    <tr>\n",
              "      <th>122360</th>\n",
              "      <td>099G0082</td>\n",
              "      <td>camera</td>\n",
              "      <td>Approvazione</td>\n",
              "      <td>Approval</td>\n",
              "      <td>1999-02-03-00-01</td>\n",
              "      <td>COMMISSIONE 6</td>\n",
              "      <td>NaN</td>\n",
              "      <td>Esaminato dalla VI commissione e approvato il ...</td>\n",
              "    </tr>\n",
              "  </tbody>\n",
              "</table>\n",
              "<p>122361 rows × 8 columns</p>\n",
              "</div>"
            ],
            "application/vnd.google.colaboratory.intrinsic+json": {
              "type": "dataframe",
              "variable_name": "event_log"
            }
          },
          "metadata": {},
          "execution_count": 5
        }
      ]
    },
    {
      "cell_type": "code",
      "source": [
        "metadata.info()"
      ],
      "metadata": {
        "id": "DcaNO7x_PdSg",
        "outputId": "5ee8a66e-5165-46e3-eb46-05e537e35584",
        "colab": {
          "base_uri": "https://localhost:8080/"
        }
      },
      "execution_count": 7,
      "outputs": [
        {
          "output_type": "stream",
          "name": "stdout",
          "text": [
            "<class 'pandas.core.frame.DataFrame'>\n",
            "RangeIndex: 4395 entries, 0 to 4394\n",
            "Data columns (total 11 columns):\n",
            " #   Column               Non-Null Count  Dtype \n",
            "---  ------               --------------  ----- \n",
            " 0   case_id              4395 non-null   object\n",
            " 1   title                4395 non-null   object\n",
            " 2   legislature          4395 non-null   object\n",
            " 3   government           4395 non-null   object\n",
            " 4   publishing_date      4395 non-null   object\n",
            " 5   implementation_date  1497 non-null   object\n",
            " 6   decree_conversion    4395 non-null   int64 \n",
            " 7   eu_ratification      4395 non-null   int64 \n",
            " 8   articles             4395 non-null   int64 \n",
            " 9   description          4386 non-null   object\n",
            " 10  full_text_url        4395 non-null   object\n",
            "dtypes: int64(3), object(8)\n",
            "memory usage: 377.8+ KB\n"
          ]
        }
      ]
    },
    {
      "cell_type": "code",
      "source": [
        "metadata"
      ],
      "metadata": {
        "id": "Gu7E4spTPfXf",
        "outputId": "c68819e7-a3f2-4931-d981-ddd340adf2c7",
        "colab": {
          "base_uri": "https://localhost:8080/",
          "height": 964
        }
      },
      "execution_count": 8,
      "outputs": [
        {
          "output_type": "execute_result",
          "data": {
            "text/plain": [
              "       case_id        title legislature government publishing_date  \\\n",
              "0     22G00184    L. 2/2022       XVIII     Draghi      2022-11-15   \n",
              "1     22G00152  L. 142/2022       XVIII     Draghi      2022-09-21   \n",
              "2     22G00149  L. 140/2022       XVIII     Draghi      2022-09-15   \n",
              "3     22G00139  L. 129/2022       XVIII     Draghi      2022-09-01   \n",
              "4     22G00141  L. 130/2022       XVIII     Draghi      2022-09-01   \n",
              "...        ...          ...         ...        ...             ...   \n",
              "4390  087U0401  L. 401/1987           X      Goria      1987-10-03   \n",
              "4391  087U0400  L. 400/1987           X      Goria      1987-10-03   \n",
              "4392  087U0399  L. 399/1987           X      Goria      1987-10-03   \n",
              "4393  087U0398  L. 398/1987           X      Goria      1987-10-03   \n",
              "4394  087U0332  L. 332/1987           X      Goria      1987-08-07   \n",
              "\n",
              "     implementation_date  decree_conversion  eu_ratification  articles  \\\n",
              "0             2022-11-30                  0                0         1   \n",
              "1             2022-09-22                  1                0         1   \n",
              "2             2022-09-30                  0                0         5   \n",
              "3             2022-09-16                  0                0         1   \n",
              "4             2022-09-16                  0                0         8   \n",
              "...                  ...                ...              ...       ...   \n",
              "4390                 NaN                  1                0         1   \n",
              "4391                 NaN                  1                0         1   \n",
              "4392                 NaN                  1                0         1   \n",
              "4393                 NaN                  1                0         1   \n",
              "4394                 NaN                  0                0         3   \n",
              "\n",
              "                                            description  \\\n",
              "0     Modifica all''articolo 119 della Costituzione\\...   \n",
              "1     Conversione in legge\\, con modificazioni\\, del...   \n",
              "2     Disposizioni per la celebrazione dell''ottavo ...   \n",
              "3     Delega al Governo per il riordino della discip...   \n",
              "4     Disposizioni in materia di giustizia e di proc...   \n",
              "...                                                 ...   \n",
              "4390  Conversione in legge\\, con modificazioni\\, del...   \n",
              "4391  Conversione in legge\\, con modificazioni\\, del...   \n",
              "4392  Conversione in legge\\, con modificazioni\\, del...   \n",
              "4393  Conversione in legge\\, con modificazioni\\, del...   \n",
              "4394  Deroghe alla legge 25 maggio 1970\\, n. 352\\, i...   \n",
              "\n",
              "                                          full_text_url  \n",
              "0     https://www.gazzettaufficiale.it/eli/id/2022/1...  \n",
              "1     https://www.gazzettaufficiale.it/eli/id/2022/0...  \n",
              "2     https://www.gazzettaufficiale.it/eli/id/2022/0...  \n",
              "3     https://www.gazzettaufficiale.it/eli/id/2022/0...  \n",
              "4     https://www.gazzettaufficiale.it/eli/id/2022/0...  \n",
              "...                                                 ...  \n",
              "4390  https://www.gazzettaufficiale.it/eli/id/1987/1...  \n",
              "4391  https://www.gazzettaufficiale.it/eli/id/1987/1...  \n",
              "4392  https://www.gazzettaufficiale.it/eli/id/1987/1...  \n",
              "4393  https://www.gazzettaufficiale.it/eli/id/1987/1...  \n",
              "4394  https://www.gazzettaufficiale.it/eli/id/1987/0...  \n",
              "\n",
              "[4395 rows x 11 columns]"
            ],
            "text/html": [
              "<div>\n",
              "<style scoped>\n",
              "    .dataframe tbody tr th:only-of-type {\n",
              "        vertical-align: middle;\n",
              "    }\n",
              "\n",
              "    .dataframe tbody tr th {\n",
              "        vertical-align: top;\n",
              "    }\n",
              "\n",
              "    .dataframe thead th {\n",
              "        text-align: right;\n",
              "    }\n",
              "</style>\n",
              "<table border=\"1\" class=\"dataframe\">\n",
              "  <thead>\n",
              "    <tr style=\"text-align: right;\">\n",
              "      <th></th>\n",
              "      <th>case_id</th>\n",
              "      <th>title</th>\n",
              "      <th>legislature</th>\n",
              "      <th>government</th>\n",
              "      <th>publishing_date</th>\n",
              "      <th>implementation_date</th>\n",
              "      <th>decree_conversion</th>\n",
              "      <th>eu_ratification</th>\n",
              "      <th>articles</th>\n",
              "      <th>description</th>\n",
              "      <th>full_text_url</th>\n",
              "    </tr>\n",
              "  </thead>\n",
              "  <tbody>\n",
              "    <tr>\n",
              "      <th>0</th>\n",
              "      <td>22G00184</td>\n",
              "      <td>L. 2/2022</td>\n",
              "      <td>XVIII</td>\n",
              "      <td>Draghi</td>\n",
              "      <td>2022-11-15</td>\n",
              "      <td>2022-11-30</td>\n",
              "      <td>0</td>\n",
              "      <td>0</td>\n",
              "      <td>1</td>\n",
              "      <td>Modifica all''articolo 119 della Costituzione\\...</td>\n",
              "      <td>https://www.gazzettaufficiale.it/eli/id/2022/1...</td>\n",
              "    </tr>\n",
              "    <tr>\n",
              "      <th>1</th>\n",
              "      <td>22G00152</td>\n",
              "      <td>L. 142/2022</td>\n",
              "      <td>XVIII</td>\n",
              "      <td>Draghi</td>\n",
              "      <td>2022-09-21</td>\n",
              "      <td>2022-09-22</td>\n",
              "      <td>1</td>\n",
              "      <td>0</td>\n",
              "      <td>1</td>\n",
              "      <td>Conversione in legge\\, con modificazioni\\, del...</td>\n",
              "      <td>https://www.gazzettaufficiale.it/eli/id/2022/0...</td>\n",
              "    </tr>\n",
              "    <tr>\n",
              "      <th>2</th>\n",
              "      <td>22G00149</td>\n",
              "      <td>L. 140/2022</td>\n",
              "      <td>XVIII</td>\n",
              "      <td>Draghi</td>\n",
              "      <td>2022-09-15</td>\n",
              "      <td>2022-09-30</td>\n",
              "      <td>0</td>\n",
              "      <td>0</td>\n",
              "      <td>5</td>\n",
              "      <td>Disposizioni per la celebrazione dell''ottavo ...</td>\n",
              "      <td>https://www.gazzettaufficiale.it/eli/id/2022/0...</td>\n",
              "    </tr>\n",
              "    <tr>\n",
              "      <th>3</th>\n",
              "      <td>22G00139</td>\n",
              "      <td>L. 129/2022</td>\n",
              "      <td>XVIII</td>\n",
              "      <td>Draghi</td>\n",
              "      <td>2022-09-01</td>\n",
              "      <td>2022-09-16</td>\n",
              "      <td>0</td>\n",
              "      <td>0</td>\n",
              "      <td>1</td>\n",
              "      <td>Delega al Governo per il riordino della discip...</td>\n",
              "      <td>https://www.gazzettaufficiale.it/eli/id/2022/0...</td>\n",
              "    </tr>\n",
              "    <tr>\n",
              "      <th>4</th>\n",
              "      <td>22G00141</td>\n",
              "      <td>L. 130/2022</td>\n",
              "      <td>XVIII</td>\n",
              "      <td>Draghi</td>\n",
              "      <td>2022-09-01</td>\n",
              "      <td>2022-09-16</td>\n",
              "      <td>0</td>\n",
              "      <td>0</td>\n",
              "      <td>8</td>\n",
              "      <td>Disposizioni in materia di giustizia e di proc...</td>\n",
              "      <td>https://www.gazzettaufficiale.it/eli/id/2022/0...</td>\n",
              "    </tr>\n",
              "    <tr>\n",
              "      <th>...</th>\n",
              "      <td>...</td>\n",
              "      <td>...</td>\n",
              "      <td>...</td>\n",
              "      <td>...</td>\n",
              "      <td>...</td>\n",
              "      <td>...</td>\n",
              "      <td>...</td>\n",
              "      <td>...</td>\n",
              "      <td>...</td>\n",
              "      <td>...</td>\n",
              "      <td>...</td>\n",
              "    </tr>\n",
              "    <tr>\n",
              "      <th>4390</th>\n",
              "      <td>087U0401</td>\n",
              "      <td>L. 401/1987</td>\n",
              "      <td>X</td>\n",
              "      <td>Goria</td>\n",
              "      <td>1987-10-03</td>\n",
              "      <td>NaN</td>\n",
              "      <td>1</td>\n",
              "      <td>0</td>\n",
              "      <td>1</td>\n",
              "      <td>Conversione in legge\\, con modificazioni\\, del...</td>\n",
              "      <td>https://www.gazzettaufficiale.it/eli/id/1987/1...</td>\n",
              "    </tr>\n",
              "    <tr>\n",
              "      <th>4391</th>\n",
              "      <td>087U0400</td>\n",
              "      <td>L. 400/1987</td>\n",
              "      <td>X</td>\n",
              "      <td>Goria</td>\n",
              "      <td>1987-10-03</td>\n",
              "      <td>NaN</td>\n",
              "      <td>1</td>\n",
              "      <td>0</td>\n",
              "      <td>1</td>\n",
              "      <td>Conversione in legge\\, con modificazioni\\, del...</td>\n",
              "      <td>https://www.gazzettaufficiale.it/eli/id/1987/1...</td>\n",
              "    </tr>\n",
              "    <tr>\n",
              "      <th>4392</th>\n",
              "      <td>087U0399</td>\n",
              "      <td>L. 399/1987</td>\n",
              "      <td>X</td>\n",
              "      <td>Goria</td>\n",
              "      <td>1987-10-03</td>\n",
              "      <td>NaN</td>\n",
              "      <td>1</td>\n",
              "      <td>0</td>\n",
              "      <td>1</td>\n",
              "      <td>Conversione in legge\\, con modificazioni\\, del...</td>\n",
              "      <td>https://www.gazzettaufficiale.it/eli/id/1987/1...</td>\n",
              "    </tr>\n",
              "    <tr>\n",
              "      <th>4393</th>\n",
              "      <td>087U0398</td>\n",
              "      <td>L. 398/1987</td>\n",
              "      <td>X</td>\n",
              "      <td>Goria</td>\n",
              "      <td>1987-10-03</td>\n",
              "      <td>NaN</td>\n",
              "      <td>1</td>\n",
              "      <td>0</td>\n",
              "      <td>1</td>\n",
              "      <td>Conversione in legge\\, con modificazioni\\, del...</td>\n",
              "      <td>https://www.gazzettaufficiale.it/eli/id/1987/1...</td>\n",
              "    </tr>\n",
              "    <tr>\n",
              "      <th>4394</th>\n",
              "      <td>087U0332</td>\n",
              "      <td>L. 332/1987</td>\n",
              "      <td>X</td>\n",
              "      <td>Goria</td>\n",
              "      <td>1987-08-07</td>\n",
              "      <td>NaN</td>\n",
              "      <td>0</td>\n",
              "      <td>0</td>\n",
              "      <td>3</td>\n",
              "      <td>Deroghe alla legge 25 maggio 1970\\, n. 352\\, i...</td>\n",
              "      <td>https://www.gazzettaufficiale.it/eli/id/1987/0...</td>\n",
              "    </tr>\n",
              "  </tbody>\n",
              "</table>\n",
              "<p>4395 rows × 11 columns</p>\n",
              "</div>"
            ],
            "application/vnd.google.colaboratory.intrinsic+json": {
              "type": "dataframe",
              "variable_name": "metadata",
              "summary": "{\n  \"name\": \"metadata\",\n  \"rows\": 4395,\n  \"fields\": [\n    {\n      \"column\": \"case_id\",\n      \"properties\": {\n        \"dtype\": \"string\",\n        \"num_unique_values\": 4395,\n        \"samples\": [\n          \"090G0009\",\n          \"096G0693\",\n          \"003G0361\"\n        ],\n        \"semantic_type\": \"\",\n        \"description\": \"\"\n      }\n    },\n    {\n      \"column\": \"title\",\n      \"properties\": {\n        \"dtype\": \"string\",\n        \"num_unique_values\": 4386,\n        \"samples\": [\n          \"L. 24/1996\",\n          \"L. 403/1994\",\n          \"L. 96/1997\"\n        ],\n        \"semantic_type\": \"\",\n        \"description\": \"\"\n      }\n    },\n    {\n      \"column\": \"legislature\",\n      \"properties\": {\n        \"dtype\": \"category\",\n        \"num_unique_values\": 9,\n        \"samples\": [\n          \"XI\",\n          \"XVII\",\n          \"XIII\"\n        ],\n        \"semantic_type\": \"\",\n        \"description\": \"\"\n      }\n    },\n    {\n      \"column\": \"government\",\n      \"properties\": {\n        \"dtype\": \"category\",\n        \"num_unique_values\": 23,\n        \"samples\": [\n          \"Dini\",\n          \"Berlusconi III\",\n          \"Draghi\"\n        ],\n        \"semantic_type\": \"\",\n        \"description\": \"\"\n      }\n    },\n    {\n      \"column\": \"publishing_date\",\n      \"properties\": {\n        \"dtype\": \"object\",\n        \"num_unique_values\": 2841,\n        \"samples\": [\n          \"2015-11-30\",\n          \"1993-01-05\",\n          \"2004-01-05\"\n        ],\n        \"semantic_type\": \"\",\n        \"description\": \"\"\n      }\n    },\n    {\n      \"column\": \"implementation_date\",\n      \"properties\": {\n        \"dtype\": \"object\",\n        \"num_unique_values\": 1155,\n        \"samples\": [\n          \"2005-12-29\",\n          \"2017-12-14\",\n          \"2021-05-18\"\n        ],\n        \"semantic_type\": \"\",\n        \"description\": \"\"\n      }\n    },\n    {\n      \"column\": \"decree_conversion\",\n      \"properties\": {\n        \"dtype\": \"number\",\n        \"std\": 0,\n        \"min\": 0,\n        \"max\": 1,\n        \"num_unique_values\": 2,\n        \"samples\": [\n          1,\n          0\n        ],\n        \"semantic_type\": \"\",\n        \"description\": \"\"\n      }\n    },\n    {\n      \"column\": \"eu_ratification\",\n      \"properties\": {\n        \"dtype\": \"number\",\n        \"std\": 0,\n        \"min\": 0,\n        \"max\": 1,\n        \"num_unique_values\": 2,\n        \"samples\": [\n          1,\n          0\n        ],\n        \"semantic_type\": \"\",\n        \"description\": \"\"\n      }\n    },\n    {\n      \"column\": \"articles\",\n      \"properties\": {\n        \"dtype\": \"number\",\n        \"std\": 28,\n        \"min\": 1,\n        \"max\": 966,\n        \"num_unique_values\": 137,\n        \"samples\": [\n          70,\n          128\n        ],\n        \"semantic_type\": \"\",\n        \"description\": \"\"\n      }\n    },\n    {\n      \"column\": \"description\",\n      \"properties\": {\n        \"dtype\": \"string\",\n        \"num_unique_values\": 4371,\n        \"samples\": [\n          \"Ratifica ed esecuzione dell''Accordo per l''esecuzione delle sentenze penali tra la Repubblica italiana e la Repubblica di Cuba e relativo scambio di note integrativo\\\\, fatti a L''Avana il 9 giugno 1998.\",\n          \"Introduzione nel codice penale del reato di frode in processo penale e depistaggio. (16G00145)\"\n        ],\n        \"semantic_type\": \"\",\n        \"description\": \"\"\n      }\n    },\n    {\n      \"column\": \"full_text_url\",\n      \"properties\": {\n        \"dtype\": \"string\",\n        \"num_unique_values\": 4395,\n        \"samples\": [\n          \"https://www.gazzettaufficiale.it/eli/id/1990/01/05/090G0009\",\n          \"https://www.gazzettaufficiale.it/eli/id/1997/01/11/096G0693\"\n        ],\n        \"semantic_type\": \"\",\n        \"description\": \"\"\n      }\n    }\n  ]\n}"
            }
          },
          "metadata": {},
          "execution_count": 8
        }
      ]
    },
    {
      "cell_type": "markdown",
      "metadata": {
        "id": "SKnI84UiOcre"
      },
      "source": [
        "### Format Timestamps\n",
        "\n",
        "We convert the `time` column to datetime format. The original format includes year, month, day, hour, and minute."
      ]
    },
    {
      "cell_type": "code",
      "execution_count": 9,
      "metadata": {
        "id": "PPCgALshOcre"
      },
      "outputs": [],
      "source": [
        "# Convert the 'time' column from string to datetime, matching the format YYYY‑MM‑DD‑HH‑MM\n",
        "event_log['time'] = pd.to_datetime(\n",
        "    event_log['time'],\n",
        "    format='%Y-%m-%d-%H-%M',\n",
        "    errors='coerce')"
      ]
    },
    {
      "cell_type": "markdown",
      "metadata": {
        "id": "Q8MgW_ifOcrf"
      },
      "source": [
        "### Merge Metadata\n",
        "\n",
        "We enrich the event log with metadata fields such as:\n",
        "- `decree_conversion`: Whether the law is a conversion of a decree-law\n",
        "- `legislature`: The legislative term"
      ]
    },
    {
      "cell_type": "code",
      "execution_count": 10,
      "metadata": {
        "id": "3C2OG6sTOcrf"
      },
      "outputs": [],
      "source": [
        "# Choose columns to merge\n",
        "cols = ['case_id', 'decree_conversion', 'legislature']\n",
        "\n",
        "df = event_log.merge(\n",
        "    metadata[cols],\n",
        "    on='case_id',\n",
        "    how='left'\n",
        ")\n",
        "\n",
        "# Optional: save the merged dataset for reuse\n",
        "# df.to_csv('ProLiFIC_merged.csv', index=False)"
      ]
    },
    {
      "cell_type": "markdown",
      "metadata": {
        "id": "cn2IdWAwOcrf"
      },
      "source": [
        "## 📊 Dataset Overview\n",
        "\n",
        "This overview uses the merged dataset, combining event log data with metadata. We report:\n",
        "\n",
        "- The total number of unique legislative cases (`case_id`)\n",
        "- The number of legislatures represented\n",
        "- Counts of decree-law conversions\n",
        "- The most common legislative activities (in English)"
      ]
    },
    {
      "cell_type": "code",
      "execution_count": 11,
      "metadata": {
        "id": "sqHCLJdzOcrf",
        "outputId": "1a426c18-0660-4945-d9ed-3cf96f225f6c",
        "colab": {
          "base_uri": "https://localhost:8080/"
        }
      },
      "outputs": [
        {
          "output_type": "stream",
          "name": "stdout",
          "text": [
            "Dataset Overview (merged DataFrame)\n",
            "- Number of unique legislative cases: 4395\n",
            "- Number of legislatures covered: 9\n",
            "- Number of decree-law conversions: 33817\n",
            "\n",
            "Top 5 most common activity types:\n",
            "activity_en\n",
            "Request for opinion      49861\n",
            "Committee examination    34143\n",
            "Assignment               11844\n",
            "Approval                 10100\n",
            "Plenary debate            9986\n",
            "Name: count, dtype: int64\n"
          ]
        }
      ],
      "source": [
        "print(\"Dataset Overview (merged DataFrame)\")\n",
        "\n",
        "num_cases = df['case_id'].nunique()\n",
        "num_legislatures = df['legislature'].nunique()\n",
        "num_decrees = df['decree_conversion'].sum()\n",
        "top_activities = df['activity_en'].value_counts().head()\n",
        "\n",
        "print(f\"- Number of unique legislative cases: {num_cases}\")\n",
        "print(f\"- Number of legislatures covered: {num_legislatures}\")\n",
        "print(f\"- Number of decree-law conversions: {num_decrees}\")\n",
        "\n",
        "print(\"\\nTop 5 most common activity types:\")\n",
        "print(top_activities)"
      ]
    },
    {
      "cell_type": "markdown",
      "metadata": {
        "id": "SRqe0VxTOcrg"
      },
      "source": [
        "## ⚙️ Process Mining Inquiries\n",
        "\n",
        "This section details the key preprocessing and analysis steps to prepare the dataset for process mining with pm4py and to extract meaningful insights:"
      ]
    },
    {
      "cell_type": "markdown",
      "metadata": {
        "id": "hsh0zk4MOcrg"
      },
      "source": [
        "### Convert to pm4py Event Log\n",
        "We transform the merged Pandas DataFrame into a pm4py Event Log format, specifying `case_id` as the case identifier, enabling process-oriented analysis."
      ]
    },
    {
      "cell_type": "code",
      "execution_count": 12,
      "metadata": {
        "id": "zdHT7UVqOcrg"
      },
      "outputs": [],
      "source": [
        "# Ensure datetime compatibility\n",
        "df = dataframe_utils.convert_timestamp_columns_in_df(df)\n",
        "\n",
        "# Convert to Event Log format\n",
        "parameters = {\n",
        "    converter.Variants.TO_EVENT_LOG.value.Parameters.CASE_ID_KEY: 'case_id'\n",
        "}\n",
        "log = converter.apply(df, variant=converter.Variants.TO_EVENT_LOG, parameters=parameters)"
      ]
    },
    {
      "cell_type": "markdown",
      "metadata": {
        "id": "h93m-rFGOcrg"
      },
      "source": [
        "### Calculate Case Durations\n",
        "\n",
        "For each case (i.e., trace), we compute the time span from the first to the last event. This gives us an estimate of how long the legislative process took."
      ]
    },
    {
      "cell_type": "code",
      "execution_count": 13,
      "metadata": {
        "id": "m9v6o57oOcrg"
      },
      "outputs": [],
      "source": [
        "durations = {}\n",
        "for trace in log:\n",
        "    start = trace[0]['time']\n",
        "    end = trace[-1]['time']\n",
        "    case_id = trace.attributes['concept:name']\n",
        "    durations[case_id] = (end - start).total_seconds() / (60 * 60 * 24)  # in days\n",
        "\n",
        "# Convert to DataFrame\n",
        "dur_df = pd.DataFrame([\n",
        "    {'case_id': cid, 'duration_days': dur}\n",
        "    for cid, dur in durations.items()\n",
        "])"
      ]
    },
    {
      "cell_type": "markdown",
      "metadata": {
        "id": "hSP0qRd3Ocrg"
      },
      "source": [
        "### Merge Duration Data with Metadata\n",
        "\n",
        "We combine the duration table with metadata and calculate summary statistics by legislature."
      ]
    },
    {
      "cell_type": "code",
      "execution_count": 14,
      "metadata": {
        "id": "HSZllhDVOcrg"
      },
      "outputs": [],
      "source": [
        "dur_df = dur_df.merge(metadata, on='case_id', how='left')"
      ]
    },
    {
      "cell_type": "markdown",
      "metadata": {
        "id": "AYBSW0BeOcrh"
      },
      "source": [
        "### Summary Statistics by Legislature\n",
        "\n",
        "We now compute summary statistics on the duration of legislative processes, grouping cases by legislature. We distinguish between decree-laws and regular laws, calculating:\n",
        "\n",
        "- Total number of laws per legislature\n",
        "- Number and percentage of decree-laws\n",
        "- Median duration of the process for all laws, decree-laws, and non-decrees"
      ]
    },
    {
      "cell_type": "code",
      "execution_count": 15,
      "metadata": {
        "id": "czF8nA6_Ocrh"
      },
      "outputs": [],
      "source": [
        "# Group by legislature and calculate relevant aggregates\n",
        "summary = dur_df.groupby('legislature').agg(\n",
        "    laws_total=('case_id', 'count'),\n",
        "    decrees_count=('decree_conversion', lambda x: (x == 1).sum()),\n",
        "    median_duration_total=('duration_days', 'median'),\n",
        "    median_duration_0=('duration_days', lambda x: x[dur_df.loc[x.index, 'decree_conversion'] == 0].median()),\n",
        "    median_duration_1=('duration_days', lambda x: x[dur_df.loc[x.index, 'decree_conversion'] == 1].median())\n",
        ").reset_index()\n",
        "\n",
        "# Add percentage of decrees\n",
        "summary['%_decrees'] = summary['decrees_count'] / summary['laws_total'] * 100\n",
        "\n",
        "# Replace NaNs (if any) with 0 before converting to int\n",
        "for col in ['median_duration_total', 'median_duration_0', 'median_duration_1', '%_decrees']:\n",
        "    summary[col] = np.ceil(summary[col].fillna(0)).astype(int)\n",
        "\n",
        "# Optional: drop decrees_count if not needed\n",
        "# summary = summary.drop(columns='decrees_count')"
      ]
    },
    {
      "cell_type": "code",
      "execution_count": 16,
      "metadata": {
        "id": "9lpZ8OcBOcrh",
        "outputId": "03b74f08-4eed-45c4-f2ce-48ff97b36fc9",
        "colab": {
          "base_uri": "https://localhost:8080/",
          "height": 331
        }
      },
      "outputs": [
        {
          "output_type": "display_data",
          "data": {
            "text/plain": [
              "  legislature  laws_total  decrees_count  median_duration_total  \\\n",
              "0           X        1060            197                    281   \n",
              "1          XI         303            114                    145   \n",
              "2         XII         292            124                     88   \n",
              "3        XIII         892            179                    280   \n",
              "4         XIV         676            202                    190   \n",
              "5          XV         110             31                    129   \n",
              "6         XVI         385            114                    115   \n",
              "7        XVII         371             84                    287   \n",
              "8       XVIII         306            102                    218   \n",
              "\n",
              "   median_duration_0  median_duration_1  %_decrees  \n",
              "0                368                 55         19  \n",
              "1                271                 55         38  \n",
              "2                209                 51         43  \n",
              "3                343                 54         21  \n",
              "4                268                 52         30  \n",
              "5                214                 51         29  \n",
              "6                161                 54         30  \n",
              "7                377                 54         23  \n",
              "8                418                 54         34  "
            ],
            "text/html": [
              "<div>\n",
              "<style scoped>\n",
              "    .dataframe tbody tr th:only-of-type {\n",
              "        vertical-align: middle;\n",
              "    }\n",
              "\n",
              "    .dataframe tbody tr th {\n",
              "        vertical-align: top;\n",
              "    }\n",
              "\n",
              "    .dataframe thead th {\n",
              "        text-align: right;\n",
              "    }\n",
              "</style>\n",
              "<table border=\"1\" class=\"dataframe\">\n",
              "  <thead>\n",
              "    <tr style=\"text-align: right;\">\n",
              "      <th></th>\n",
              "      <th>legislature</th>\n",
              "      <th>laws_total</th>\n",
              "      <th>decrees_count</th>\n",
              "      <th>median_duration_total</th>\n",
              "      <th>median_duration_0</th>\n",
              "      <th>median_duration_1</th>\n",
              "      <th>%_decrees</th>\n",
              "    </tr>\n",
              "  </thead>\n",
              "  <tbody>\n",
              "    <tr>\n",
              "      <th>0</th>\n",
              "      <td>X</td>\n",
              "      <td>1060</td>\n",
              "      <td>197</td>\n",
              "      <td>281</td>\n",
              "      <td>368</td>\n",
              "      <td>55</td>\n",
              "      <td>19</td>\n",
              "    </tr>\n",
              "    <tr>\n",
              "      <th>1</th>\n",
              "      <td>XI</td>\n",
              "      <td>303</td>\n",
              "      <td>114</td>\n",
              "      <td>145</td>\n",
              "      <td>271</td>\n",
              "      <td>55</td>\n",
              "      <td>38</td>\n",
              "    </tr>\n",
              "    <tr>\n",
              "      <th>2</th>\n",
              "      <td>XII</td>\n",
              "      <td>292</td>\n",
              "      <td>124</td>\n",
              "      <td>88</td>\n",
              "      <td>209</td>\n",
              "      <td>51</td>\n",
              "      <td>43</td>\n",
              "    </tr>\n",
              "    <tr>\n",
              "      <th>3</th>\n",
              "      <td>XIII</td>\n",
              "      <td>892</td>\n",
              "      <td>179</td>\n",
              "      <td>280</td>\n",
              "      <td>343</td>\n",
              "      <td>54</td>\n",
              "      <td>21</td>\n",
              "    </tr>\n",
              "    <tr>\n",
              "      <th>4</th>\n",
              "      <td>XIV</td>\n",
              "      <td>676</td>\n",
              "      <td>202</td>\n",
              "      <td>190</td>\n",
              "      <td>268</td>\n",
              "      <td>52</td>\n",
              "      <td>30</td>\n",
              "    </tr>\n",
              "    <tr>\n",
              "      <th>5</th>\n",
              "      <td>XV</td>\n",
              "      <td>110</td>\n",
              "      <td>31</td>\n",
              "      <td>129</td>\n",
              "      <td>214</td>\n",
              "      <td>51</td>\n",
              "      <td>29</td>\n",
              "    </tr>\n",
              "    <tr>\n",
              "      <th>6</th>\n",
              "      <td>XVI</td>\n",
              "      <td>385</td>\n",
              "      <td>114</td>\n",
              "      <td>115</td>\n",
              "      <td>161</td>\n",
              "      <td>54</td>\n",
              "      <td>30</td>\n",
              "    </tr>\n",
              "    <tr>\n",
              "      <th>7</th>\n",
              "      <td>XVII</td>\n",
              "      <td>371</td>\n",
              "      <td>84</td>\n",
              "      <td>287</td>\n",
              "      <td>377</td>\n",
              "      <td>54</td>\n",
              "      <td>23</td>\n",
              "    </tr>\n",
              "    <tr>\n",
              "      <th>8</th>\n",
              "      <td>XVIII</td>\n",
              "      <td>306</td>\n",
              "      <td>102</td>\n",
              "      <td>218</td>\n",
              "      <td>418</td>\n",
              "      <td>54</td>\n",
              "      <td>34</td>\n",
              "    </tr>\n",
              "  </tbody>\n",
              "</table>\n",
              "</div>"
            ],
            "application/vnd.google.colaboratory.intrinsic+json": {
              "type": "dataframe",
              "variable_name": "summary",
              "summary": "{\n  \"name\": \"summary\",\n  \"rows\": 9,\n  \"fields\": [\n    {\n      \"column\": \"legislature\",\n      \"properties\": {\n        \"dtype\": \"string\",\n        \"num_unique_values\": 9,\n        \"samples\": [\n          \"XVII\",\n          \"XI\",\n          \"XV\"\n        ],\n        \"semantic_type\": \"\",\n        \"description\": \"\"\n      }\n    },\n    {\n      \"column\": \"laws_total\",\n      \"properties\": {\n        \"dtype\": \"number\",\n        \"std\": 315,\n        \"min\": 110,\n        \"max\": 1060,\n        \"num_unique_values\": 9,\n        \"samples\": [\n          371,\n          303,\n          110\n        ],\n        \"semantic_type\": \"\",\n        \"description\": \"\"\n      }\n    },\n    {\n      \"column\": \"decrees_count\",\n      \"properties\": {\n        \"dtype\": \"number\",\n        \"std\": 56,\n        \"min\": 31,\n        \"max\": 202,\n        \"num_unique_values\": 8,\n        \"samples\": [\n          114,\n          31,\n          197\n        ],\n        \"semantic_type\": \"\",\n        \"description\": \"\"\n      }\n    },\n    {\n      \"column\": \"median_duration_total\",\n      \"properties\": {\n        \"dtype\": \"number\",\n        \"std\": 77,\n        \"min\": 88,\n        \"max\": 287,\n        \"num_unique_values\": 9,\n        \"samples\": [\n          287,\n          145,\n          129\n        ],\n        \"semantic_type\": \"\",\n        \"description\": \"\"\n      }\n    },\n    {\n      \"column\": \"median_duration_0\",\n      \"properties\": {\n        \"dtype\": \"number\",\n        \"std\": 88,\n        \"min\": 161,\n        \"max\": 418,\n        \"num_unique_values\": 9,\n        \"samples\": [\n          377,\n          271,\n          214\n        ],\n        \"semantic_type\": \"\",\n        \"description\": \"\"\n      }\n    },\n    {\n      \"column\": \"median_duration_1\",\n      \"properties\": {\n        \"dtype\": \"number\",\n        \"std\": 1,\n        \"min\": 51,\n        \"max\": 55,\n        \"num_unique_values\": 4,\n        \"samples\": [\n          51,\n          52,\n          55\n        ],\n        \"semantic_type\": \"\",\n        \"description\": \"\"\n      }\n    },\n    {\n      \"column\": \"%_decrees\",\n      \"properties\": {\n        \"dtype\": \"number\",\n        \"std\": 7,\n        \"min\": 19,\n        \"max\": 43,\n        \"num_unique_values\": 8,\n        \"samples\": [\n          38,\n          29,\n          19\n        ],\n        \"semantic_type\": \"\",\n        \"description\": \"\"\n      }\n    }\n  ]\n}"
            }
          },
          "metadata": {}
        }
      ],
      "source": [
        "display(summary)"
      ]
    },
    {
      "cell_type": "markdown",
      "metadata": {
        "id": "DGy7IYRkOcrh"
      },
      "source": [
        "### Visualize Median Durations\n",
        "\n",
        "We plot the median durations across legislatures to visually compare:\n",
        "- All laws\n",
        "- Decree conversions\n",
        "- Non-decrees"
      ]
    },
    {
      "cell_type": "code",
      "execution_count": 17,
      "metadata": {
        "id": "IOMjet-zOcrh",
        "outputId": "447afd51-ced0-471c-992b-108fd96d23ed",
        "colab": {
          "base_uri": "https://localhost:8080/",
          "height": 407
        }
      },
      "outputs": [
        {
          "output_type": "display_data",
          "data": {
            "text/plain": [
              "<Figure size 1200x400 with 1 Axes>"
            ],
            "image/png": "[encoded data removed]"
          },
          "metadata": {}
        }
      ],
      "source": [
        "fig, ax = plt.subplots(figsize=(12, 4))\n",
        "summary.set_index('legislature')[['median_duration_total', 'median_duration_0', 'median_duration_1']].plot(\n",
        "    kind='bar', ax=ax\n",
        ")\n",
        "ax.set_title('Median Case Durations by Legislature')\n",
        "ax.set_ylabel('Duration (days)')\n",
        "plt.xticks(rotation=45)\n",
        "plt.tight_layout()\n",
        "plt.show()"
      ]
    }
  ],
  "metadata": {
    "kernelspec": {
      "display_name": "base",
      "language": "python",
      "name": "python3"
    },
    "language_info": {
      "codemirror_mode": {
        "name": "ipython",
        "version": 3
      },
      "file_extension": ".py",
      "mimetype": "text/x-python",
      "name": "python",
      "nbconvert_exporter": "python",
      "pygments_lexer": "ipython3",
      "version": "3.11.5"
    },
    "colab": {
      "provenance": []
    }
  },
  "nbformat": 4,
  "nbformat_minor": 0
}