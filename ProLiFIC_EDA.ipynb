{
 "cells": [
  {
   "cell_type": "markdown",
   "metadata": {},
   "source": [
    "# ProLiFIC EDA Notebook\n",
    "\n",
    "Welcome to the **Exploratory Data Analysis (EDA)** notebook for the **ProLiFIC** dataset — *Procedural Lawmaking Flow in Italian Chambers*. This notebook walks you through:\n",
    "\n",
    "- Loading and inspecting the event log and metadata\n",
    "- Parsing timestamps and cleaning key fields\n",
    "- Merging metadata with procedural event data\n",
    "- Converting the dataset into a format suitable for **process mining** with `pm4py`\n",
    "- Computing descriptive statistics and case durations\n",
    "- Exploring temporal patterns and institutional trends in legislative processes\n",
    "\n",
    "The ProLiFIC dataset covers Italian parliamentary activity from **1987 to 2022**, capturing detailed procedural traces for each legislative case. It is particularly suited for research in:\n",
    "\n",
    "- **Legal process mining**\n",
    "- **Governance and institutional modeling**\n",
    "- **Temporal and policy analysis**\n",
    "\n",
    "This EDA lays the foundation for more advanced questions about lawmaking duration, decree-law usage, legislative bottlenecks, and institutional dynamics."
   ]
  },
  {
   "cell_type": "markdown",
   "metadata": {},
   "source": [
    "## 📦 Requirements\n",
    "\n",
    "This notebook requires the following Python libraries:\n",
    "\n",
    "- `pandas` – for data manipulation\n",
    "- `numpy` – for numerical operations\n",
    "- `matplotlib` – for basic visualizations\n",
    "- `pm4py` – for process mining functionalities\n",
    "\n",
    "To install the missing libraries, run:\n",
    "\n",
    "```bash\n",
    "pip install pandas numpy matplotlib pm4py"
   ]
  },
  {
   "cell_type": "code",
   "execution_count": 13,
   "metadata": {},
   "outputs": [],
   "source": [
    "import pandas as pd\n",
    "import matplotlib.pyplot as plt\n",
    "import numpy as np\n",
    "\n",
    "from pm4py.objects.log.util import dataframe_utils\n",
    "from pm4py.objects.conversion.log import converter"
   ]
  },
  {
   "cell_type": "markdown",
   "metadata": {},
   "source": [
    "## 📄 Load Data\n",
    "\n",
    "We begin by loading the two main components of the ProLiFIC dataset:\n",
    "\n",
    "- `ProLiFIC_event_log.csv`: procedural events (one row per event)\n",
    "- `ProLiFIC_metadata.csv`: metadata per case (one row per law)"
   ]
  },
  {
   "cell_type": "code",
   "execution_count": 14,
   "metadata": {},
   "outputs": [],
   "source": [
    "# Load event log and metadata\n",
    "event_log = pd.read_csv('data/ProLiFIC_event_log.csv', index_col=False)\n",
    "metadata = pd.read_csv('data/ProLiFIC_metadata.csv', index_col=False)"
   ]
  },
  {
   "cell_type": "markdown",
   "metadata": {},
   "source": [
    "### Format Timestamps\n",
    "\n",
    "We convert the `time` column to datetime format. The original format includes year, month, day, hour, and minute."
   ]
  },
  {
   "cell_type": "code",
   "execution_count": 15,
   "metadata": {},
   "outputs": [],
   "source": [
    "# Convert the 'time' column from string to datetime, matching the format YYYY‑MM‑DD‑HH‑MM\n",
    "event_log['time'] = pd.to_datetime(\n",
    "    event_log['time'], \n",
    "    format='%Y-%m-%d-%H-%M', \n",
    "    errors='coerce')"
   ]
  },
  {
   "cell_type": "markdown",
   "metadata": {},
   "source": [
    "### Merge Metadata\n",
    "\n",
    "We enrich the event log with metadata fields such as:\n",
    "- `decree_conversion`: Whether the law is a conversion of a decree-law\n",
    "- `legislature`: The legislative term"
   ]
  },
  {
   "cell_type": "code",
   "execution_count": null,
   "metadata": {},
   "outputs": [],
   "source": [
    "# Choose columns to merge\n",
    "cols = ['case_id', 'decree_conversion', 'legislature']\n",
    "\n",
    "df = event_log.merge(\n",
    "    metadata[cols], \n",
    "    on='case_id', \n",
    "    how='left'\n",
    ")\n",
    "\n",
    "# Optional: save the merged dataset for reuse\n",
    "# df.to_csv('ProLiFIC_merged.csv', index=False)"
   ]
  },
  {
   "cell_type": "markdown",
   "metadata": {},
   "source": [
    "## 📊 Dataset Overview\n",
    "\n",
    "This overview uses the merged dataset, combining event log data with metadata. We report:\n",
    "\n",
    "- The total number of unique legislative cases (`case_id`)\n",
    "- The number of legislatures represented\n",
    "- Counts of decree-law conversions\n",
    "- The most common legislative activities (in English)"
   ]
  },
  {
   "cell_type": "code",
   "execution_count": 18,
   "metadata": {},
   "outputs": [
    {
     "name": "stdout",
     "output_type": "stream",
     "text": [
      "Dataset Overview (merged DataFrame)\n",
      "- Number of unique legislative cases: 4395\n",
      "- Number of legislatures covered: 9\n",
      "- Number of decree-law conversions: 33817\n",
      "\n",
      "Top 5 most common activity types:\n",
      "activity_en\n",
      "Request for opinion      49861\n",
      "Committee examination    34143\n",
      "Assignment               11844\n",
      "Approval                 10100\n",
      "Plenary debate            9986\n",
      "Name: count, dtype: int64\n"
     ]
    }
   ],
   "source": [
    "print(\"Dataset Overview (merged DataFrame)\")\n",
    "\n",
    "num_cases = df['case_id'].nunique()\n",
    "num_legislatures = df['legislature'].nunique()\n",
    "num_decrees = df['decree_conversion'].sum()\n",
    "top_activities = df['activity_en'].value_counts().head()\n",
    "\n",
    "print(f\"- Number of unique legislative cases: {num_cases}\")\n",
    "print(f\"- Number of legislatures covered: {num_legislatures}\")\n",
    "print(f\"- Number of decree-law conversions: {num_decrees}\")\n",
    "\n",
    "print(\"\\nTop 5 most common activity types:\")\n",
    "print(top_activities)"
   ]
  },
  {
   "cell_type": "markdown",
   "metadata": {},
   "source": [
    "## ⚙️ Process Mining Inquiries\n",
    "\n",
    "This section details the key preprocessing and analysis steps to prepare the dataset for process mining with pm4py and to extract meaningful insights:"
   ]
  },
  {
   "cell_type": "markdown",
   "metadata": {},
   "source": [
    "### Convert to pm4py Event Log\n",
    "We transform the merged Pandas DataFrame into a pm4py Event Log format, specifying `case_id` as the case identifier, enabling process-oriented analysis."
   ]
  },
  {
   "cell_type": "code",
   "execution_count": 19,
   "metadata": {},
   "outputs": [],
   "source": [
    "# Ensure datetime compatibility\n",
    "df = dataframe_utils.convert_timestamp_columns_in_df(df)\n",
    "\n",
    "# Convert to Event Log format\n",
    "parameters = {\n",
    "    converter.Variants.TO_EVENT_LOG.value.Parameters.CASE_ID_KEY: 'case_id'\n",
    "}\n",
    "log = converter.apply(df, variant=converter.Variants.TO_EVENT_LOG, parameters=parameters)"
   ]
  },
  {
   "cell_type": "markdown",
   "metadata": {},
   "source": [
    "### Calculate Case Durations\n",
    "\n",
    "For each case (i.e., trace), we compute the time span from the first to the last event. This gives us an estimate of how long the legislative process took."
   ]
  },
  {
   "cell_type": "code",
   "execution_count": 20,
   "metadata": {},
   "outputs": [],
   "source": [
    "durations = {}\n",
    "for trace in log:\n",
    "    start = trace[0]['time']\n",
    "    end = trace[-1]['time']\n",
    "    case_id = trace.attributes['concept:name']\n",
    "    durations[case_id] = (end - start).total_seconds() / (60 * 60 * 24)  # in days\n",
    "\n",
    "# Convert to DataFrame\n",
    "dur_df = pd.DataFrame([\n",
    "    {'case_id': cid, 'duration_days': dur}\n",
    "    for cid, dur in durations.items()\n",
    "])"
   ]
  },
  {
   "cell_type": "markdown",
   "metadata": {},
   "source": [
    "### Merge Duration Data with Metadata\n",
    "\n",
    "We combine the duration table with metadata and calculate summary statistics by legislature."
   ]
  },
  {
   "cell_type": "code",
   "execution_count": 21,
   "metadata": {},
   "outputs": [],
   "source": [
    "dur_df = dur_df.merge(metadata, on='case_id', how='left')"
   ]
  },
  {
   "cell_type": "markdown",
   "metadata": {},
   "source": [
    "### Summary Statistics by Legislature\n",
    "\n",
    "We now compute summary statistics on the duration of legislative processes, grouping cases by legislature. We distinguish between decree-laws and regular laws, calculating:\n",
    "\n",
    "- Total number of laws per legislature\n",
    "- Number and percentage of decree-laws\n",
    "- Median duration of the process for all laws, decree-laws, and non-decrees"
   ]
  },
  {
   "cell_type": "code",
   "execution_count": 22,
   "metadata": {},
   "outputs": [],
   "source": [
    "# Group by legislature and calculate relevant aggregates\n",
    "summary = dur_df.groupby('legislature').agg(\n",
    "    laws_total=('case_id', 'count'),\n",
    "    decrees_count=('decree_conversion', lambda x: (x == 1).sum()),\n",
    "    median_duration_total=('duration_days', 'median'),\n",
    "    median_duration_0=('duration_days', lambda x: x[dur_df.loc[x.index, 'decree_conversion'] == 0].median()),\n",
    "    median_duration_1=('duration_days', lambda x: x[dur_df.loc[x.index, 'decree_conversion'] == 1].median())\n",
    ").reset_index()\n",
    "\n",
    "# Add percentage of decrees\n",
    "summary['%_decrees'] = summary['decrees_count'] / summary['laws_total'] * 100\n",
    "\n",
    "# Replace NaNs (if any) with 0 before converting to int\n",
    "for col in ['median_duration_total', 'median_duration_0', 'median_duration_1', '%_decrees']:\n",
    "    summary[col] = np.ceil(summary[col].fillna(0)).astype(int)\n",
    "\n",
    "# Optional: drop decrees_count if not needed\n",
    "# summary = summary.drop(columns='decrees_count')"
   ]
  },
  {
   "cell_type": "code",
   "execution_count": 23,
   "metadata": {},
   "outputs": [
    {
     "data": {
      "text/html": [
       "<div>\n",
       "<style scoped>\n",
       "    .dataframe tbody tr th:only-of-type {\n",
       "        vertical-align: middle;\n",
       "    }\n",
       "\n",
       "    .dataframe tbody tr th {\n",
       "        vertical-align: top;\n",
       "    }\n",
       "\n",
       "    .dataframe thead th {\n",
       "        text-align: right;\n",
       "    }\n",
       "</style>\n",
       "<table border=\"1\" class=\"dataframe\">\n",
       "  <thead>\n",
       "    <tr style=\"text-align: right;\">\n",
       "      <th></th>\n",
       "      <th>legislature</th>\n",
       "      <th>laws_total</th>\n",
       "      <th>decrees_count</th>\n",
       "      <th>median_duration_total</th>\n",
       "      <th>median_duration_0</th>\n",
       "      <th>median_duration_1</th>\n",
       "      <th>%_decrees</th>\n",
       "    </tr>\n",
       "  </thead>\n",
       "  <tbody>\n",
       "    <tr>\n",
       "      <th>0</th>\n",
       "      <td>X</td>\n",
       "      <td>1060</td>\n",
       "      <td>197</td>\n",
       "      <td>281</td>\n",
       "      <td>368</td>\n",
       "      <td>55</td>\n",
       "      <td>19</td>\n",
       "    </tr>\n",
       "    <tr>\n",
       "      <th>1</th>\n",
       "      <td>XI</td>\n",
       "      <td>303</td>\n",
       "      <td>114</td>\n",
       "      <td>145</td>\n",
       "      <td>271</td>\n",
       "      <td>55</td>\n",
       "      <td>38</td>\n",
       "    </tr>\n",
       "    <tr>\n",
       "      <th>2</th>\n",
       "      <td>XII</td>\n",
       "      <td>292</td>\n",
       "      <td>124</td>\n",
       "      <td>88</td>\n",
       "      <td>209</td>\n",
       "      <td>51</td>\n",
       "      <td>43</td>\n",
       "    </tr>\n",
       "    <tr>\n",
       "      <th>3</th>\n",
       "      <td>XIII</td>\n",
       "      <td>892</td>\n",
       "      <td>179</td>\n",
       "      <td>280</td>\n",
       "      <td>343</td>\n",
       "      <td>54</td>\n",
       "      <td>21</td>\n",
       "    </tr>\n",
       "    <tr>\n",
       "      <th>4</th>\n",
       "      <td>XIV</td>\n",
       "      <td>676</td>\n",
       "      <td>202</td>\n",
       "      <td>190</td>\n",
       "      <td>268</td>\n",
       "      <td>52</td>\n",
       "      <td>30</td>\n",
       "    </tr>\n",
       "    <tr>\n",
       "      <th>5</th>\n",
       "      <td>XV</td>\n",
       "      <td>110</td>\n",
       "      <td>31</td>\n",
       "      <td>129</td>\n",
       "      <td>214</td>\n",
       "      <td>51</td>\n",
       "      <td>29</td>\n",
       "    </tr>\n",
       "    <tr>\n",
       "      <th>6</th>\n",
       "      <td>XVI</td>\n",
       "      <td>385</td>\n",
       "      <td>114</td>\n",
       "      <td>115</td>\n",
       "      <td>161</td>\n",
       "      <td>54</td>\n",
       "      <td>30</td>\n",
       "    </tr>\n",
       "    <tr>\n",
       "      <th>7</th>\n",
       "      <td>XVII</td>\n",
       "      <td>371</td>\n",
       "      <td>84</td>\n",
       "      <td>287</td>\n",
       "      <td>377</td>\n",
       "      <td>54</td>\n",
       "      <td>23</td>\n",
       "    </tr>\n",
       "    <tr>\n",
       "      <th>8</th>\n",
       "      <td>XVIII</td>\n",
       "      <td>306</td>\n",
       "      <td>102</td>\n",
       "      <td>218</td>\n",
       "      <td>418</td>\n",
       "      <td>54</td>\n",
       "      <td>34</td>\n",
       "    </tr>\n",
       "  </tbody>\n",
       "</table>\n",
       "</div>"
      ],
      "text/plain": [
       "  legislature  laws_total  decrees_count  median_duration_total  \\\n",
       "0           X        1060            197                    281   \n",
       "1          XI         303            114                    145   \n",
       "2         XII         292            124                     88   \n",
       "3        XIII         892            179                    280   \n",
       "4         XIV         676            202                    190   \n",
       "5          XV         110             31                    129   \n",
       "6         XVI         385            114                    115   \n",
       "7        XVII         371             84                    287   \n",
       "8       XVIII         306            102                    218   \n",
       "\n",
       "   median_duration_0  median_duration_1  %_decrees  \n",
       "0                368                 55         19  \n",
       "1                271                 55         38  \n",
       "2                209                 51         43  \n",
       "3                343                 54         21  \n",
       "4                268                 52         30  \n",
       "5                214                 51         29  \n",
       "6                161                 54         30  \n",
       "7                377                 54         23  \n",
       "8                418                 54         34  "
      ]
     },
     "metadata": {},
     "output_type": "display_data"
    }
   ],
   "source": [
    "display(summary)"
   ]
  },
  {
   "cell_type": "markdown",
   "metadata": {},
   "source": [
    "### Visualize Median Durations\n",
    "\n",
    "We plot the median durations across legislatures to visually compare:\n",
    "- All laws\n",
    "- Decree conversions\n",
    "- Non-decrees"
   ]
  },
  {
   "cell_type": "code",
   "execution_count": 24,
   "metadata": {},
   "outputs": [
    {
     "data": {
      "image/png": "[encoded data removed]",
      "text/plain": [
       "<Figure size 1200x400 with 1 Axes>"
      ]
     },
     "metadata": {},
     "output_type": "display_data"
    }
   ],
   "source": [
    "fig, ax = plt.subplots(figsize=(12, 4))\n",
    "summary.set_index('legislature')[['median_duration_total', 'median_duration_0', 'median_duration_1']].plot(\n",
    "    kind='bar', ax=ax\n",
    ")\n",
    "ax.set_title('Median Case Durations by Legislature')\n",
    "ax.set_ylabel('Duration (days)')\n",
    "plt.xticks(rotation=45)\n",
    "plt.tight_layout()\n",
    "plt.show()"
   ]
  }
 ],
 "metadata": {
  "kernelspec": {
   "display_name": "base",
   "language": "python",
   "name": "python3"
  },
  "language_info": {
   "codemirror_mode": {
    "name": "ipython",
    "version": 3
   },
   "file_extension": ".py",
   "mimetype": "text/x-python",
   "name": "python",
   "nbconvert_exporter": "python",
   "pygments_lexer": "ipython3",
   "version": "3.11.5"
  }
 },
 "nbformat": 4,
 "nbformat_minor": 2
}
